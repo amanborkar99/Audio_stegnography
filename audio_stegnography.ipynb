{
 "cells": [
  {
   "cell_type": "code",
   "execution_count": 5,
   "metadata": {},
   "outputs": [],
   "source": [
    "import wave\n",
    "with wave.open('cover_audio.wav', \"rb\") as audio_file:\n",
    "    # Read the frames of the audio file\n",
    "    frames = audio_file.readframes(-1)\n",
    "    # Convert the frames to a byte array\n",
    "    byte_array = bytearray(frames)\n",
    "    message='this is a secret message'\n",
    "    message = [int(i) for i in ''.join([bin(ord(c)).lstrip('0b').rjust(8,'0') for c in message])]\n",
    "\n",
    "    message_len = len(message)\n",
    "\n",
    "    message_len_bin = bin(message_len)[2:].zfill(32)\n",
    "    message_len_bin = list(message_len_bin)\n",
    "\n",
    "    for i in range(0,32):\n",
    "      byte_array[i] = ((byte_array[i] & 254) | int(message_len_bin[i]))\n",
    "\n",
    "    for i, bit in enumerate(message):\n",
    "      byte_array[i+32] = (byte_array[i+32] & 254) | bit\n",
    "# Get the modified bytes\n",
    "\n",
    "\n",
    "    frame_modified = bytes(byte_array)\n",
    "    with wave.open('song_embedded.wav', 'wb') as fd:\n",
    "        fd.setparams(audio_file.getparams())\n",
    "        fd.writeframes(frame_modified)\n",
    "audio_file.close()\n"
   ]
  },
  {
   "cell_type": "code",
   "execution_count": 9,
   "metadata": {},
   "outputs": [
    {
     "name": "stdout",
     "output_type": "stream",
     "text": [
      "this is a secret message\n"
     ]
    }
   ],
   "source": [
    "with wave.open('song_embedded.wav', \"rb\") as audio_file:\n",
    "    # Read the frames of the audio file\n",
    "    frames = audio_file.readframes(-1)\n",
    "    # Convert the frames to a byte array\n",
    "    byte_array = bytearray(frames)\n",
    "\n",
    "message_len_bin = \"\"\n",
    "for i in range(0,32):\n",
    "    bit = bin(byte_array[i])[2:].zfill(8)\n",
    "    message_len_bin += str(bit[-1])\n",
    "\n",
    "message_len = int(message_len_bin,2)\n",
    "\n",
    "#positions = sequence_generator(len(byte_array),key,message_len)\n",
    "\n",
    "message = []\n",
    "\n",
    "for i in range(message_len):\n",
    "    message.append(byte_array[i+32] & 1)\n",
    "\n",
    "text = ''.join([chr(int(i, 2)) for i in [''.join(map(str,message[i:i+8])) for i in range(0, len(message), 8)]])\n",
    "print(text)\n",
    "audio_file.close()"
   ]
  },
  {
   "cell_type": "code",
   "execution_count": null,
   "metadata": {},
   "outputs": [],
   "source": []
  }
 ],
 "metadata": {
  "kernelspec": {
   "display_name": "Python 3",
   "language": "python",
   "name": "python3"
  },
  "language_info": {
   "codemirror_mode": {
    "name": "ipython",
    "version": 3
   },
   "file_extension": ".py",
   "mimetype": "text/x-python",
   "name": "python",
   "nbconvert_exporter": "python",
   "pygments_lexer": "ipython3",
   "version": "3.8.3"
  }
 },
 "nbformat": 4,
 "nbformat_minor": 2
}
